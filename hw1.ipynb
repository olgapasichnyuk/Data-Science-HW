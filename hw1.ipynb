{
 "cells": [
  {
   "cell_type": "code",
   "execution_count": null,
   "id": "c1a07a29",
   "metadata": {},
   "outputs": [],
   "source": [
    "import numpy as np"
   ]
  },
  {
   "cell_type": "code",
   "execution_count": 176,
   "id": "87f8d0fd",
   "metadata": {},
   "outputs": [
    {
     "name": "stdout",
     "output_type": "stream",
     "text": [
      "1. Створіть одновимірний масив (вектор) з першими 10-ма натуральними числами та виведіть його значення.\n"
     ]
    },
    {
     "data": {
      "text/plain": [
       "array([[ 1],\n",
       "       [ 2],\n",
       "       [ 3],\n",
       "       [ 4],\n",
       "       [ 5],\n",
       "       [ 6],\n",
       "       [ 7],\n",
       "       [ 8],\n",
       "       [ 9],\n",
       "       [10]])"
      ]
     },
     "execution_count": 176,
     "metadata": {},
     "output_type": "execute_result"
    }
   ],
   "source": [
    "print('1. Створіть одновимірний масив (вектор) з першими 10-ма натуральними числами та виведіть його значення.')\n",
    "arr1 = np.arange(1,11, 1).reshape(-1,1)\n",
    "arr1"
   ]
  },
  {
   "cell_type": "code",
   "execution_count": 177,
   "id": "f67255d5",
   "metadata": {},
   "outputs": [
    {
     "name": "stdout",
     "output_type": "stream",
     "text": [
      "2. Створіть двовимірний масив (матрицю) розміром 3x3, заповніть його нулями та виведіть його значення.\n"
     ]
    },
    {
     "data": {
      "text/plain": [
       "array([[0, 0, 0],\n",
       "       [0, 0, 0],\n",
       "       [0, 0, 0]])"
      ]
     },
     "execution_count": 177,
     "metadata": {},
     "output_type": "execute_result"
    }
   ],
   "source": [
    "print('2. Створіть двовимірний масив (матрицю) розміром 3x3, заповніть його нулями та виведіть його значення.')\n",
    "arr2 = np.zeros((3,3), int)\n",
    "arr2"
   ]
  },
  {
   "cell_type": "code",
   "execution_count": 194,
   "id": "e196031b",
   "metadata": {},
   "outputs": [
    {
     "name": "stdout",
     "output_type": "stream",
     "text": [
      "3. Створіть масив розміром 5x5, заповніть його випадковими цілими числами в діапазоні від 1 до 10 та виведіть його значення\n"
     ]
    },
    {
     "data": {
      "text/plain": [
       "array([[10,  8,  4,  4,  8],\n",
       "       [ 9,  5,  5,  1, 10],\n",
       "       [ 2,  3,  6, 10,  7],\n",
       "       [ 9,  3,  7,  7,  4],\n",
       "       [10,  7,  9, 10,  5]])"
      ]
     },
     "execution_count": 194,
     "metadata": {},
     "output_type": "execute_result"
    }
   ],
   "source": [
    "print('3. Створіть масив розміром 5x5, заповніть його випадковими цілими числами в діапазоні від 1 до 10 та виведіть його значення')\n",
    "arr3 = np.random.randint(1, 11, (5,5))\n",
    "arr3"
   ]
  },
  {
   "cell_type": "code",
   "execution_count": 193,
   "id": "b0670afe",
   "metadata": {},
   "outputs": [
    {
     "name": "stdout",
     "output_type": "stream",
     "text": [
      "4. Створіть масив розміром 4x4, заповніть його випадковими дійсними числами в діапазоні від 0 до 1 та виведіть його значення.\n"
     ]
    },
    {
     "data": {
      "text/plain": [
       "array([[0.00377773, 0.90016074, 0.69345715, 0.01643265],\n",
       "       [0.65152811, 0.59803853, 0.67652524, 0.96833446],\n",
       "       [0.61052704, 0.2314885 , 0.46613653, 0.04118722],\n",
       "       [0.46988863, 0.14760264, 0.8277218 , 0.95695331]])"
      ]
     },
     "execution_count": 193,
     "metadata": {},
     "output_type": "execute_result"
    }
   ],
   "source": [
    "print('4. Створіть масив розміром 4x4, заповніть його випадковими дійсними числами в діапазоні від 0 до 1 та виведіть його значення.')\n",
    "arr4 = np.random.random((4,4))\n",
    "arr4"
   ]
  },
  {
   "cell_type": "code",
   "execution_count": 192,
   "id": "bd0bfe0b",
   "metadata": {},
   "outputs": [
    {
     "name": "stdout",
     "output_type": "stream",
     "text": [
      "5. Створіть два одновимірних масиви розміром 5, заповніть їх випадковими цілими числами в діапазоні від 1 до 10 та виконайте на них поелементні операції додавання, віднімання та множення.\n"
     ]
    },
    {
     "data": {
      "text/plain": [
       "array([[8],\n",
       "       [1],\n",
       "       [6],\n",
       "       [8],\n",
       "       [6]])"
      ]
     },
     "execution_count": 192,
     "metadata": {},
     "output_type": "execute_result"
    }
   ],
   "source": [
    "print('5. Створіть два одновимірних масиви розміром 5, заповніть їх випадковими цілими числами в діапазоні від 1 до 10 та виконайте на них поелементні операції додавання, віднімання та множення.')\n",
    "arr51 = np.random.randint(1, 11, (5,1))\n",
    "arr51"
   ]
  },
  {
   "cell_type": "code",
   "execution_count": 38,
   "id": "538e214b",
   "metadata": {},
   "outputs": [
    {
     "data": {
      "text/plain": [
       "array([[ 8],\n",
       "       [ 5],\n",
       "       [ 1],\n",
       "       [ 1],\n",
       "       [10]])"
      ]
     },
     "execution_count": 38,
     "metadata": {},
     "output_type": "execute_result"
    }
   ],
   "source": [
    "print('')\n",
    "arr52 = np.random.randint(1, 11, (5,1))\n",
    "arr52"
   ]
  },
  {
   "cell_type": "code",
   "execution_count": 39,
   "id": "f9f36b1f",
   "metadata": {},
   "outputs": [
    {
     "data": {
      "text/plain": [
       "array([[13],\n",
       "       [13],\n",
       "       [ 4],\n",
       "       [ 7],\n",
       "       [19]])"
      ]
     },
     "execution_count": 39,
     "metadata": {},
     "output_type": "execute_result"
    }
   ],
   "source": [
    "arr51 + arr52"
   ]
  },
  {
   "cell_type": "code",
   "execution_count": 40,
   "id": "17984e32",
   "metadata": {},
   "outputs": [
    {
     "data": {
      "text/plain": [
       "array([[-3],\n",
       "       [ 3],\n",
       "       [ 2],\n",
       "       [ 5],\n",
       "       [-1]])"
      ]
     },
     "execution_count": 40,
     "metadata": {},
     "output_type": "execute_result"
    }
   ],
   "source": [
    "arr51 - arr52"
   ]
  },
  {
   "cell_type": "code",
   "execution_count": 41,
   "id": "e5c894e1",
   "metadata": {},
   "outputs": [
    {
     "data": {
      "text/plain": [
       "array([[40],\n",
       "       [40],\n",
       "       [ 3],\n",
       "       [ 6],\n",
       "       [90]])"
      ]
     },
     "execution_count": 41,
     "metadata": {},
     "output_type": "execute_result"
    }
   ],
   "source": [
    "arr51 * arr52"
   ]
  },
  {
   "cell_type": "code",
   "execution_count": 191,
   "id": "02bd5517",
   "metadata": {},
   "outputs": [
    {
     "name": "stdout",
     "output_type": "stream",
     "text": [
      "6. Створіть два вектори розміром 7, заповніть довільними числами та знайдіть їх скалярний добуток.\n"
     ]
    },
    {
     "data": {
      "text/plain": [
       "array([ 3,  4,  3, 10,  9,  5,  4])"
      ]
     },
     "execution_count": 191,
     "metadata": {},
     "output_type": "execute_result"
    }
   ],
   "source": [
    "print('6. Створіть два вектори розміром 7, заповніть довільними числами та знайдіть їх скалярний добуток.')\n",
    "arr61 = np.random.randint(1, 11, 7)\n",
    "arr61"
   ]
  },
  {
   "cell_type": "code",
   "execution_count": 43,
   "id": "4b9e8c85",
   "metadata": {},
   "outputs": [
    {
     "data": {
      "text/plain": [
       "array([ 4, 10,  2,  9,  2, 10,  8])"
      ]
     },
     "execution_count": 43,
     "metadata": {},
     "output_type": "execute_result"
    }
   ],
   "source": [
    "arr62 = np.random.randint(1, 11, 7)\n",
    "arr62"
   ]
  },
  {
   "cell_type": "code",
   "execution_count": 44,
   "id": "c065969c",
   "metadata": {},
   "outputs": [
    {
     "data": {
      "text/plain": [
       "229"
      ]
     },
     "execution_count": 44,
     "metadata": {},
     "output_type": "execute_result"
    }
   ],
   "source": [
    "arr61@arr62"
   ]
  },
  {
   "cell_type": "code",
   "execution_count": 190,
   "id": "68f2ccef",
   "metadata": {},
   "outputs": [
    {
     "name": "stdout",
     "output_type": "stream",
     "text": [
      "7. Створіть дві матриці розміром 2x2 та 2x3, заповніть їх випадковими цілими числами в діапазоні від 1 до 10 та перемножте їх між собою.\n"
     ]
    },
    {
     "data": {
      "text/plain": [
       "array([[ 7,  3],\n",
       "       [10,  5]])"
      ]
     },
     "execution_count": 190,
     "metadata": {},
     "output_type": "execute_result"
    }
   ],
   "source": [
    "print('7. Створіть дві матриці розміром 2x2 та 2x3, заповніть їх випадковими цілими числами в діапазоні від 1 до 10 та перемножте їх між собою.')\n",
    "arr71 = np.random.randint(1, 11, (2,2))\n",
    "arr71"
   ]
  },
  {
   "cell_type": "code",
   "execution_count": 46,
   "id": "92fa91d4",
   "metadata": {},
   "outputs": [
    {
     "data": {
      "text/plain": [
       "array([[6, 9, 9],\n",
       "       [5, 7, 9]])"
      ]
     },
     "execution_count": 46,
     "metadata": {},
     "output_type": "execute_result"
    }
   ],
   "source": [
    "arr72 = np.random.randint(1, 11, (2,3))\n",
    "arr72"
   ]
  },
  {
   "cell_type": "code",
   "execution_count": 47,
   "id": "91deb53e",
   "metadata": {},
   "outputs": [
    {
     "data": {
      "text/plain": [
       "array([[47, 67, 81],\n",
       "       [60, 87, 99]])"
      ]
     },
     "execution_count": 47,
     "metadata": {},
     "output_type": "execute_result"
    }
   ],
   "source": [
    "np.dot(arr71, arr72)"
   ]
  },
  {
   "cell_type": "code",
   "execution_count": 189,
   "id": "87714119",
   "metadata": {},
   "outputs": [
    {
     "name": "stdout",
     "output_type": "stream",
     "text": [
      "8. Створіть матрицю розміром 3x3, заповніть її випадковими цілими числами в діапазоні від 1 до 10 та знайдіть її обернену матрицю.\n"
     ]
    },
    {
     "data": {
      "text/plain": [
       "array([[ 9,  5,  3],\n",
       "       [ 1,  4,  6],\n",
       "       [ 3, 10,  4]])"
      ]
     },
     "execution_count": 189,
     "metadata": {},
     "output_type": "execute_result"
    }
   ],
   "source": [
    "print('8. Створіть матрицю розміром 3x3, заповніть її випадковими цілими числами в діапазоні від 1 до 10 та знайдіть її обернену матрицю.')\n",
    "arr8 = np.random.randint(1, 11, (3,3))\n",
    "arr8"
   ]
  },
  {
   "cell_type": "code",
   "execution_count": 50,
   "id": "25a3dcae",
   "metadata": {},
   "outputs": [
    {
     "data": {
      "text/plain": [
       "array([[-0.56923077,  0.35384615, -0.06153846],\n",
       "       [ 0.86153846, -0.29230769, -0.12307692],\n",
       "       [ 0.03076923, -0.04615385,  0.13846154]])"
      ]
     },
     "execution_count": 50,
     "metadata": {},
     "output_type": "execute_result"
    }
   ],
   "source": [
    "np.linalg.inv(arr8)"
   ]
  },
  {
   "cell_type": "code",
   "execution_count": 188,
   "id": "312796d5",
   "metadata": {},
   "outputs": [
    {
     "name": "stdout",
     "output_type": "stream",
     "text": [
      "9. Створіть матрицю розміром 4x4, заповніть її випадковими дійсними числами в діапазоні від 0 до 1 та транспонуйте її.\n"
     ]
    },
    {
     "data": {
      "text/plain": [
       "array([[0.67064556, 0.1938824 , 0.5229135 , 0.69577391],\n",
       "       [0.70695213, 0.75331281, 0.66114039, 0.20831608],\n",
       "       [0.90668757, 0.87488627, 0.54445873, 0.3170102 ],\n",
       "       [0.97782247, 0.03350848, 0.53924368, 0.54688691]])"
      ]
     },
     "execution_count": 188,
     "metadata": {},
     "output_type": "execute_result"
    }
   ],
   "source": [
    "print('9. Створіть матрицю розміром 4x4, заповніть її випадковими дійсними числами в діапазоні від 0 до 1 та транспонуйте її.')\n",
    "arr9 = np.random.random((4,4))\n",
    "arr9"
   ]
  },
  {
   "cell_type": "code",
   "execution_count": 53,
   "id": "db0d99e1",
   "metadata": {},
   "outputs": [
    {
     "data": {
      "text/plain": [
       "array([[0.44029982, 0.13082078, 0.96334619, 0.41636973],\n",
       "       [0.10392945, 0.44444548, 0.13220377, 0.32814023],\n",
       "       [0.79893292, 0.4011141 , 0.08918322, 0.03667371],\n",
       "       [0.07949789, 0.29956384, 0.04611231, 0.97370511]])"
      ]
     },
     "execution_count": 53,
     "metadata": {},
     "output_type": "execute_result"
    }
   ],
   "source": [
    "arr9.T"
   ]
  },
  {
   "cell_type": "code",
   "execution_count": 187,
   "id": "90280e08",
   "metadata": {},
   "outputs": [
    {
     "name": "stdout",
     "output_type": "stream",
     "text": [
      "10. Створіть матрицю розміром 3x4 та вектор розміром 4, заповніть їх випадковими цілими числами в діапазоні від 1 до 10 та перемножте матрицю на вектор\n"
     ]
    },
    {
     "data": {
      "text/plain": [
       "array([[ 8,  3,  9,  6],\n",
       "       [ 7,  8, 10, 10],\n",
       "       [ 5,  1,  8,  3]])"
      ]
     },
     "execution_count": 187,
     "metadata": {},
     "output_type": "execute_result"
    }
   ],
   "source": [
    "print('10. Створіть матрицю розміром 3x4 та вектор розміром 4, заповніть їх випадковими цілими числами в діапазоні від 1 до 10 та перемножте матрицю на вектор')\n",
    "arr101 = np.random.randint(1, 11, (3,4))\n",
    "arr101"
   ]
  },
  {
   "cell_type": "code",
   "execution_count": 55,
   "id": "45f579f0",
   "metadata": {},
   "outputs": [
    {
     "data": {
      "text/plain": [
       "array([ 3, 10,  7,  2])"
      ]
     },
     "execution_count": 55,
     "metadata": {},
     "output_type": "execute_result"
    }
   ],
   "source": [
    "arr102 = np.random.randint(1, 11, 4)\n",
    "arr102"
   ]
  },
  {
   "cell_type": "code",
   "execution_count": 56,
   "id": "e1c8ce43",
   "metadata": {},
   "outputs": [
    {
     "data": {
      "text/plain": [
       "array([212, 152, 130])"
      ]
     },
     "execution_count": 56,
     "metadata": {},
     "output_type": "execute_result"
    }
   ],
   "source": [
    "np.dot(arr101, arr102)"
   ]
  },
  {
   "cell_type": "code",
   "execution_count": 186,
   "id": "ae9b7044",
   "metadata": {},
   "outputs": [
    {
     "name": "stdout",
     "output_type": "stream",
     "text": [
      "11. Створіть матрицю розміром 2x3 та вектор розміром 3, заповніть їх випадковими дійсними числами в діапазоні від 0 до 1 та перемножте матрицю на вектор\n"
     ]
    },
    {
     "data": {
      "text/plain": [
       "array([[0.19391492, 0.78536043, 0.30861449],\n",
       "       [0.51982586, 0.33561801, 0.48739753]])"
      ]
     },
     "execution_count": 186,
     "metadata": {},
     "output_type": "execute_result"
    }
   ],
   "source": [
    "print('11. Створіть матрицю розміром 2x3 та вектор розміром 3, заповніть їх випадковими дійсними числами в діапазоні від 0 до 1 та перемножте матрицю на вектор')\n",
    "arr111 = np.random.random((2,3))\n",
    "arr111"
   ]
  },
  {
   "cell_type": "code",
   "execution_count": 60,
   "id": "747f6e5a",
   "metadata": {},
   "outputs": [
    {
     "data": {
      "text/plain": [
       "array([0.25999655, 0.75737591, 0.2384523 ])"
      ]
     },
     "execution_count": 60,
     "metadata": {},
     "output_type": "execute_result"
    }
   ],
   "source": [
    "arr112 = np.random.random(3)\n",
    "arr112"
   ]
  },
  {
   "cell_type": "code",
   "execution_count": 59,
   "id": "ab1d9608",
   "metadata": {},
   "outputs": [
    {
     "data": {
      "text/plain": [
       "array([0.74732249, 1.35802912])"
      ]
     },
     "execution_count": 59,
     "metadata": {},
     "output_type": "execute_result"
    }
   ],
   "source": [
    "np.dot(arr111, arr112)"
   ]
  },
  {
   "cell_type": "code",
   "execution_count": 185,
   "id": "09625c65",
   "metadata": {},
   "outputs": [
    {
     "name": "stdout",
     "output_type": "stream",
     "text": [
      "12. Створіть дві матриці розміром 2x2, заповніть їх випадковими цілими числами в діапазоні від 1 до 10 та виконайте їхнє поелементне множення\n"
     ]
    },
    {
     "data": {
      "text/plain": [
       "array([[7, 5],\n",
       "       [6, 6]])"
      ]
     },
     "execution_count": 185,
     "metadata": {},
     "output_type": "execute_result"
    }
   ],
   "source": [
    "print('12. Створіть дві матриці розміром 2x2, заповніть їх випадковими цілими числами в діапазоні від 1 до 10 та виконайте їхнє поелементне множення')\n",
    "arr121 = np.random.randint(1, 11, (2,2))\n",
    "arr121"
   ]
  },
  {
   "cell_type": "code",
   "execution_count": 63,
   "id": "b76f0315",
   "metadata": {},
   "outputs": [
    {
     "data": {
      "text/plain": [
       "array([[ 9,  7],\n",
       "       [10,  1]])"
      ]
     },
     "execution_count": 63,
     "metadata": {},
     "output_type": "execute_result"
    }
   ],
   "source": [
    "arr122 = np.random.randint(1, 11, (2,2))\n",
    "arr122"
   ]
  },
  {
   "cell_type": "code",
   "execution_count": 64,
   "id": "3610a236",
   "metadata": {},
   "outputs": [
    {
     "data": {
      "text/plain": [
       "array([[18, 63],\n",
       "       [40,  2]])"
      ]
     },
     "execution_count": 64,
     "metadata": {},
     "output_type": "execute_result"
    }
   ],
   "source": [
    "arr121 * arr122"
   ]
  },
  {
   "cell_type": "code",
   "execution_count": 184,
   "id": "2db48720",
   "metadata": {},
   "outputs": [
    {
     "name": "stdout",
     "output_type": "stream",
     "text": [
      "13. Створіть дві матриці розміром 2x2, заповніть їх випадковими цілими числами в діапазоні від 1 до 10 та знайдіть їх добуток.\n"
     ]
    },
    {
     "data": {
      "text/plain": [
       "array([[1, 7],\n",
       "       [1, 7]])"
      ]
     },
     "execution_count": 184,
     "metadata": {},
     "output_type": "execute_result"
    }
   ],
   "source": [
    "print('13. Створіть дві матриці розміром 2x2, заповніть їх випадковими цілими числами в діапазоні від 1 до 10 та знайдіть їх добуток.')\n",
    "arr131 = np.random.randint(1, 11, (2,2))\n",
    "arr131"
   ]
  },
  {
   "cell_type": "code",
   "execution_count": 68,
   "id": "e909f033",
   "metadata": {},
   "outputs": [
    {
     "data": {
      "text/plain": [
       "array([[ 1, 10],\n",
       "       [ 2, 10]])"
      ]
     },
     "execution_count": 68,
     "metadata": {},
     "output_type": "execute_result"
    }
   ],
   "source": [
    "arr132 = np.random.randint(1, 11, (2,2))\n",
    "arr132"
   ]
  },
  {
   "cell_type": "code",
   "execution_count": 69,
   "id": "e9432eb9",
   "metadata": {},
   "outputs": [
    {
     "data": {
      "text/plain": [
       "array([[ 24, 140],\n",
       "       [ 17,  90]])"
      ]
     },
     "execution_count": 69,
     "metadata": {},
     "output_type": "execute_result"
    }
   ],
   "source": [
    "np.dot(arr131, arr132)"
   ]
  },
  {
   "cell_type": "code",
   "execution_count": 183,
   "id": "6f8ee835",
   "metadata": {},
   "outputs": [
    {
     "name": "stdout",
     "output_type": "stream",
     "text": [
      "14. Створіть матрицю розміром 5x5, заповніть її випадковими цілими числами в діапазоні від 1 до 100 та знайдіть суму елементів матриці\n"
     ]
    },
    {
     "data": {
      "text/plain": [
       "array([[ 57,  78,  11,  83,  21],\n",
       "       [ 87,  28,  41,  90,  48],\n",
       "       [ 78,  56,  34,   2,  25],\n",
       "       [100,  66,  62,  98,  47],\n",
       "       [ 64,  23,  90,  39,  88]])"
      ]
     },
     "execution_count": 183,
     "metadata": {},
     "output_type": "execute_result"
    }
   ],
   "source": [
    "print('14. Створіть матрицю розміром 5x5, заповніть її випадковими цілими числами в діапазоні від 1 до 100 та знайдіть суму елементів матриці')\n",
    "arr14 = np.random.randint(1, 101, (5,5))\n",
    "arr14"
   ]
  },
  {
   "cell_type": "code",
   "execution_count": 71,
   "id": "9933baea",
   "metadata": {},
   "outputs": [
    {
     "data": {
      "text/plain": [
       "1204"
      ]
     },
     "execution_count": 71,
     "metadata": {},
     "output_type": "execute_result"
    }
   ],
   "source": [
    "np.sum(arr14)"
   ]
  },
  {
   "cell_type": "code",
   "execution_count": 182,
   "id": "50d5998f",
   "metadata": {},
   "outputs": [
    {
     "name": "stdout",
     "output_type": "stream",
     "text": [
      "15. Створіть дві матриці розміром 4x4, заповніть їх випадковими цілими числами в діапазоні від 1 до 10 та знайдіть їхню різницю\n"
     ]
    },
    {
     "data": {
      "text/plain": [
       "array([[ 4,  7,  7,  4],\n",
       "       [10,  7, 10,  2],\n",
       "       [ 3,  9, 10,  2],\n",
       "       [ 2, 10, 10,  6]])"
      ]
     },
     "execution_count": 182,
     "metadata": {},
     "output_type": "execute_result"
    }
   ],
   "source": [
    "print('15. Створіть дві матриці розміром 4x4, заповніть їх випадковими цілими числами в діапазоні від 1 до 10 та знайдіть їхню різницю')\n",
    "arr151 = np.random.randint(1, 11, (4,4))\n",
    "arr151"
   ]
  },
  {
   "cell_type": "code",
   "execution_count": 73,
   "id": "aab9cd6e",
   "metadata": {},
   "outputs": [
    {
     "data": {
      "text/plain": [
       "array([[ 6,  9,  3,  8],\n",
       "       [10, 10, 10,  6],\n",
       "       [ 3,  3,  6,  3],\n",
       "       [ 5,  7,  3,  5]])"
      ]
     },
     "execution_count": 73,
     "metadata": {},
     "output_type": "execute_result"
    }
   ],
   "source": [
    "arr152 = np.random.randint(1, 11, (4,4))\n",
    "arr152"
   ]
  },
  {
   "cell_type": "code",
   "execution_count": 74,
   "id": "2bf4b20f",
   "metadata": {},
   "outputs": [
    {
     "data": {
      "text/plain": [
       "array([[-2,  0,  4, -6],\n",
       "       [-1, -3,  0,  3],\n",
       "       [ 0, -1, -4,  3],\n",
       "       [-3,  0,  2,  3]])"
      ]
     },
     "execution_count": 74,
     "metadata": {},
     "output_type": "execute_result"
    }
   ],
   "source": [
    "arr151 - arr152"
   ]
  },
  {
   "cell_type": "code",
   "execution_count": 180,
   "id": "08ef8e36",
   "metadata": {},
   "outputs": [
    {
     "name": "stdout",
     "output_type": "stream",
     "text": [
      "16. Створіть матрицю розміром 3x3, заповніть її випадковими дійсними числами в діапазоні від 0 до 1 та знайдіть вектор-стовпчик, що містить суму елементів кожного рядка матриці.\n"
     ]
    },
    {
     "data": {
      "text/plain": [
       "array([[0.651915  , 0.07042642, 0.45764074],\n",
       "       [0.05558806, 0.06490178, 0.82612908],\n",
       "       [0.27765653, 0.49787692, 0.567096  ]])"
      ]
     },
     "execution_count": 180,
     "metadata": {},
     "output_type": "execute_result"
    }
   ],
   "source": [
    "print('16. Створіть матрицю розміром 3x3, заповніть її випадковими дійсними числами в діапазоні від 0 до 1 та знайдіть вектор-стовпчик, що містить суму елементів кожного рядка матриці.')\n",
    "arr16 = np.random.random((3,3))\n",
    "arr16"
   ]
  },
  {
   "cell_type": "code",
   "execution_count": 81,
   "id": "3e6807ba",
   "metadata": {},
   "outputs": [
    {
     "data": {
      "text/plain": [
       "array([[1.43577747],\n",
       "       [1.20679312],\n",
       "       [1.35147936]])"
      ]
     },
     "execution_count": 81,
     "metadata": {},
     "output_type": "execute_result"
    }
   ],
   "source": [
    "np.sum(arr16, axis=1).reshape(-1, 1)"
   ]
  },
  {
   "cell_type": "code",
   "execution_count": 179,
   "id": "1d2e57a1",
   "metadata": {},
   "outputs": [
    {
     "name": "stdout",
     "output_type": "stream",
     "text": [
      "17. Створіть матрицю розміром 3x4 з довільними цілими числами і створінь матрицю з квадратами цих чисел.\n"
     ]
    },
    {
     "data": {
      "text/plain": [
       "array([[4, 1, 2, 2],\n",
       "       [7, 4, 9, 6],\n",
       "       [1, 5, 6, 8]])"
      ]
     },
     "execution_count": 179,
     "metadata": {},
     "output_type": "execute_result"
    }
   ],
   "source": [
    "print('17. Створіть матрицю розміром 3x4 з довільними цілими числами і створінь матрицю з квадратами цих чисел.')\n",
    "arr17 = np.random.randint(1, 11, (3,4))\n",
    "arr17"
   ]
  },
  {
   "cell_type": "code",
   "execution_count": 85,
   "id": "8b7e3477",
   "metadata": {},
   "outputs": [
    {
     "data": {
      "text/plain": [
       "array([[ 81,   1, 100,   9],\n",
       "       [  1,  25,  81,  25],\n",
       "       [  9,   1,  64,  49]])"
      ]
     },
     "execution_count": 85,
     "metadata": {},
     "output_type": "execute_result"
    }
   ],
   "source": [
    "np.square(arr17)"
   ]
  },
  {
   "cell_type": "code",
   "execution_count": 178,
   "id": "9138559e",
   "metadata": {},
   "outputs": [
    {
     "name": "stdout",
     "output_type": "stream",
     "text": [
      "18.Створіть вектор розміром 4, заповніть його випадковими цілими числами в діапазоні від 1 до 50 та знайдіть вектор з квадратними коренями цих чисел.\n"
     ]
    },
    {
     "data": {
      "text/plain": [
       "array([2, 4, 5, 3])"
      ]
     },
     "execution_count": 178,
     "metadata": {},
     "output_type": "execute_result"
    }
   ],
   "source": [
    "print('18.Створіть вектор розміром 4, заповніть його випадковими цілими числами в діапазоні від 1 до 50 та знайдіть вектор з квадратними коренями цих чисел.')\n",
    "arr18 = np.random.randint(1, 11, 4)\n",
    "arr18"
   ]
  },
  {
   "cell_type": "code",
   "execution_count": 89,
   "id": "9612a228",
   "metadata": {},
   "outputs": [
    {
     "data": {
      "text/plain": [
       "array([1.41421356, 3.16227766, 2.64575131, 2.44948974])"
      ]
     },
     "execution_count": 89,
     "metadata": {},
     "output_type": "execute_result"
    }
   ],
   "source": [
    "np.sqrt(arr18)"
   ]
  }
 ],
 "metadata": {
  "kernelspec": {
   "display_name": "Python 3 (ipykernel)",
   "language": "python",
   "name": "python3"
  },
  "language_info": {
   "codemirror_mode": {
    "name": "ipython",
    "version": 3
   },
   "file_extension": ".py",
   "mimetype": "text/x-python",
   "name": "python",
   "nbconvert_exporter": "python",
   "pygments_lexer": "ipython3",
   "version": "3.11.0"
  }
 },
 "nbformat": 4,
 "nbformat_minor": 5
}

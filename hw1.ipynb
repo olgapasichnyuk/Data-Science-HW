{
 "cells": [
  {
   "cell_type": "code",
   "execution_count": 1,
   "id": "c1a07a29",
   "metadata": {},
   "outputs": [],
   "source": [
    "import numpy as np"
   ]
  },
  {
   "cell_type": "code",
   "execution_count": 2,
   "id": "87f8d0fd",
   "metadata": {},
   "outputs": [
    {
     "name": "stdout",
     "output_type": "stream",
     "text": [
      "1. Створіть одновимірний масив (вектор) з першими 10-ма натуральними числами та виведіть його значення.\n"
     ]
    },
    {
     "data": {
      "text/plain": [
       "array([[ 1],\n",
       "       [ 2],\n",
       "       [ 3],\n",
       "       [ 4],\n",
       "       [ 5],\n",
       "       [ 6],\n",
       "       [ 7],\n",
       "       [ 8],\n",
       "       [ 9],\n",
       "       [10]])"
      ]
     },
     "execution_count": 2,
     "metadata": {},
     "output_type": "execute_result"
    }
   ],
   "source": [
    "print('1. Створіть одновимірний масив (вектор) з першими 10-ма натуральними числами та виведіть його значення.')\n",
    "arr1 = np.arange(1,11, 1).reshape(-1,1)\n",
    "arr1"
   ]
  },
  {
   "cell_type": "code",
   "execution_count": 3,
   "id": "f67255d5",
   "metadata": {},
   "outputs": [
    {
     "name": "stdout",
     "output_type": "stream",
     "text": [
      "2. Створіть двовимірний масив (матрицю) розміром 3x3, заповніть його нулями та виведіть його значення.\n"
     ]
    },
    {
     "data": {
      "text/plain": [
       "array([[0, 0, 0],\n",
       "       [0, 0, 0],\n",
       "       [0, 0, 0]])"
      ]
     },
     "execution_count": 3,
     "metadata": {},
     "output_type": "execute_result"
    }
   ],
   "source": [
    "print('2. Створіть двовимірний масив (матрицю) розміром 3x3, заповніть його нулями та виведіть його значення.')\n",
    "arr2 = np.zeros((3,3), int)\n",
    "arr2"
   ]
  },
  {
   "cell_type": "code",
   "execution_count": 4,
   "id": "e196031b",
   "metadata": {},
   "outputs": [
    {
     "name": "stdout",
     "output_type": "stream",
     "text": [
      "3. Створіть масив розміром 5x5, заповніть його випадковими цілими числами в діапазоні від 1 до 10 та виведіть його значення\n"
     ]
    },
    {
     "data": {
      "text/plain": [
       "array([[ 4,  6,  5,  6,  4],\n",
       "       [ 9,  3,  6,  6,  1],\n",
       "       [ 3,  3,  8,  3,  6],\n",
       "       [ 1, 10,  8,  3,  7],\n",
       "       [ 3,  2,  9,  4,  3]])"
      ]
     },
     "execution_count": 4,
     "metadata": {},
     "output_type": "execute_result"
    }
   ],
   "source": [
    "print('3. Створіть масив розміром 5x5, заповніть його випадковими цілими числами в діапазоні від 1 до 10 та виведіть його значення')\n",
    "arr3 = np.random.randint(1, 11, (5,5))\n",
    "arr3"
   ]
  },
  {
   "cell_type": "code",
   "execution_count": 5,
   "id": "b0670afe",
   "metadata": {},
   "outputs": [
    {
     "name": "stdout",
     "output_type": "stream",
     "text": [
      "4. Створіть масив розміром 4x4, заповніть його випадковими дійсними числами в діапазоні від 0 до 1 та виведіть його значення.\n"
     ]
    },
    {
     "data": {
      "text/plain": [
       "array([[0.9625332 , 0.93663179, 0.71071109, 0.39172439],\n",
       "       [0.6692826 , 0.85954403, 0.86041485, 0.78231561],\n",
       "       [0.59036489, 0.37928042, 0.42772481, 0.02528362],\n",
       "       [0.15641792, 0.45564854, 0.42457494, 0.30273969]])"
      ]
     },
     "execution_count": 5,
     "metadata": {},
     "output_type": "execute_result"
    }
   ],
   "source": [
    "print('4. Створіть масив розміром 4x4, заповніть його випадковими дійсними числами в діапазоні від 0 до 1 та виведіть його значення.')\n",
    "arr4 = np.random.random((4,4))\n",
    "arr4"
   ]
  },
  {
   "cell_type": "code",
   "execution_count": 6,
   "id": "bd0bfe0b",
   "metadata": {},
   "outputs": [
    {
     "name": "stdout",
     "output_type": "stream",
     "text": [
      "5. Створіть два одновимірних масиви розміром 5, заповніть їх випадковими цілими числами в діапазоні від 1 до 10 та виконайте на них поелементні операції додавання, віднімання та множення.\n"
     ]
    },
    {
     "data": {
      "text/plain": [
       "array([[6],\n",
       "       [5],\n",
       "       [5],\n",
       "       [1],\n",
       "       [4]])"
      ]
     },
     "execution_count": 6,
     "metadata": {},
     "output_type": "execute_result"
    }
   ],
   "source": [
    "print('5. Створіть два одновимірних масиви розміром 5, заповніть їх випадковими цілими числами в діапазоні від 1 до 10 та виконайте на них поелементні операції додавання, віднімання та множення.')\n",
    "arr51 = np.random.randint(1, 11, (5,1))\n",
    "arr51"
   ]
  },
  {
   "cell_type": "code",
   "execution_count": 7,
   "id": "538e214b",
   "metadata": {},
   "outputs": [
    {
     "name": "stdout",
     "output_type": "stream",
     "text": [
      "\n"
     ]
    },
    {
     "data": {
      "text/plain": [
       "array([[10],\n",
       "       [ 5],\n",
       "       [10],\n",
       "       [ 4],\n",
       "       [ 6]])"
      ]
     },
     "execution_count": 7,
     "metadata": {},
     "output_type": "execute_result"
    }
   ],
   "source": [
    "print('')\n",
    "arr52 = np.random.randint(1, 11, (5,1))\n",
    "arr52"
   ]
  },
  {
   "cell_type": "code",
   "execution_count": 8,
   "id": "f9f36b1f",
   "metadata": {},
   "outputs": [
    {
     "data": {
      "text/plain": [
       "array([[16],\n",
       "       [10],\n",
       "       [15],\n",
       "       [ 5],\n",
       "       [10]])"
      ]
     },
     "execution_count": 8,
     "metadata": {},
     "output_type": "execute_result"
    }
   ],
   "source": [
    "arr51 + arr52"
   ]
  },
  {
   "cell_type": "code",
   "execution_count": 9,
   "id": "17984e32",
   "metadata": {},
   "outputs": [
    {
     "data": {
      "text/plain": [
       "array([[-4],\n",
       "       [ 0],\n",
       "       [-5],\n",
       "       [-3],\n",
       "       [-2]])"
      ]
     },
     "execution_count": 9,
     "metadata": {},
     "output_type": "execute_result"
    }
   ],
   "source": [
    "arr51 - arr52"
   ]
  },
  {
   "cell_type": "code",
   "execution_count": 10,
   "id": "e5c894e1",
   "metadata": {},
   "outputs": [
    {
     "data": {
      "text/plain": [
       "array([[60],\n",
       "       [25],\n",
       "       [50],\n",
       "       [ 4],\n",
       "       [24]])"
      ]
     },
     "execution_count": 10,
     "metadata": {},
     "output_type": "execute_result"
    }
   ],
   "source": [
    "arr51 * arr52"
   ]
  },
  {
   "cell_type": "code",
   "execution_count": 11,
   "id": "02bd5517",
   "metadata": {},
   "outputs": [
    {
     "name": "stdout",
     "output_type": "stream",
     "text": [
      "6. Створіть два вектори розміром 7, заповніть довільними числами та знайдіть їх скалярний добуток.\n"
     ]
    },
    {
     "data": {
      "text/plain": [
       "array([2, 5, 1, 2, 6, 9, 3])"
      ]
     },
     "execution_count": 11,
     "metadata": {},
     "output_type": "execute_result"
    }
   ],
   "source": [
    "print('6. Створіть два вектори розміром 7, заповніть довільними числами та знайдіть їх скалярний добуток.')\n",
    "arr61 = np.random.randint(1, 11, 7)\n",
    "arr61"
   ]
  },
  {
   "cell_type": "code",
   "execution_count": 12,
   "id": "4b9e8c85",
   "metadata": {},
   "outputs": [
    {
     "data": {
      "text/plain": [
       "array([ 5,  4,  6,  4,  2, 10,  2])"
      ]
     },
     "execution_count": 12,
     "metadata": {},
     "output_type": "execute_result"
    }
   ],
   "source": [
    "arr62 = np.random.randint(1, 11, 7)\n",
    "arr62"
   ]
  },
  {
   "cell_type": "code",
   "execution_count": 13,
   "id": "c065969c",
   "metadata": {},
   "outputs": [
    {
     "data": {
      "text/plain": [
       "152"
      ]
     },
     "execution_count": 13,
     "metadata": {},
     "output_type": "execute_result"
    }
   ],
   "source": [
    "arr61@arr62"
   ]
  },
  {
   "cell_type": "code",
   "execution_count": 14,
   "id": "68f2ccef",
   "metadata": {},
   "outputs": [
    {
     "name": "stdout",
     "output_type": "stream",
     "text": [
      "7. Створіть дві матриці розміром 2x2 та 2x3, заповніть їх випадковими цілими числами в діапазоні від 1 до 10 та перемножте їх між собою.\n"
     ]
    },
    {
     "data": {
      "text/plain": [
       "array([[3, 3],\n",
       "       [5, 5]])"
      ]
     },
     "execution_count": 14,
     "metadata": {},
     "output_type": "execute_result"
    }
   ],
   "source": [
    "print('7. Створіть дві матриці розміром 2x2 та 2x3, заповніть їх випадковими цілими числами в діапазоні від 1 до 10 та перемножте їх між собою.')\n",
    "arr71 = np.random.randint(1, 11, (2,2))\n",
    "arr71"
   ]
  },
  {
   "cell_type": "code",
   "execution_count": 15,
   "id": "92fa91d4",
   "metadata": {},
   "outputs": [
    {
     "data": {
      "text/plain": [
       "array([[8, 7, 5],\n",
       "       [5, 9, 1]])"
      ]
     },
     "execution_count": 15,
     "metadata": {},
     "output_type": "execute_result"
    }
   ],
   "source": [
    "arr72 = np.random.randint(1, 11, (2,3))\n",
    "arr72"
   ]
  },
  {
   "cell_type": "code",
   "execution_count": 16,
   "id": "91deb53e",
   "metadata": {},
   "outputs": [
    {
     "data": {
      "text/plain": [
       "array([[39, 48, 18],\n",
       "       [65, 80, 30]])"
      ]
     },
     "execution_count": 16,
     "metadata": {},
     "output_type": "execute_result"
    }
   ],
   "source": [
    "np.dot(arr71, arr72)"
   ]
  },
  {
   "cell_type": "code",
   "execution_count": 17,
   "id": "87714119",
   "metadata": {},
   "outputs": [
    {
     "name": "stdout",
     "output_type": "stream",
     "text": [
      "8. Створіть матрицю розміром 3x3, заповніть її випадковими цілими числами в діапазоні від 1 до 10 та знайдіть її обернену матрицю.\n"
     ]
    },
    {
     "data": {
      "text/plain": [
       "array([[ 7,  1, 10],\n",
       "       [ 1,  8,  8],\n",
       "       [ 9, 10,  9]])"
      ]
     },
     "execution_count": 17,
     "metadata": {},
     "output_type": "execute_result"
    }
   ],
   "source": [
    "print('8. Створіть матрицю розміром 3x3, заповніть її випадковими цілими числами в діапазоні від 1 до 10 та знайдіть її обернену матрицю.')\n",
    "arr8 = np.random.randint(1, 11, (3,3))\n",
    "arr8"
   ]
  },
  {
   "cell_type": "code",
   "execution_count": 18,
   "id": "25a3dcae",
   "metadata": {},
   "outputs": [
    {
     "data": {
      "text/plain": [
       "array([[ 0.01305057, -0.14845024,  0.11745514],\n",
       "       [-0.10277325,  0.04404568,  0.07504078],\n",
       "       [ 0.10114192,  0.0995106 , -0.08972268]])"
      ]
     },
     "execution_count": 18,
     "metadata": {},
     "output_type": "execute_result"
    }
   ],
   "source": [
    "np.linalg.inv(arr8)"
   ]
  },
  {
   "cell_type": "code",
   "execution_count": 19,
   "id": "312796d5",
   "metadata": {},
   "outputs": [
    {
     "name": "stdout",
     "output_type": "stream",
     "text": [
      "9. Створіть матрицю розміром 4x4, заповніть її випадковими дійсними числами в діапазоні від 0 до 1 та транспонуйте її.\n"
     ]
    },
    {
     "data": {
      "text/plain": [
       "array([[0.34311823, 0.79182315, 0.22894144, 0.97533642],\n",
       "       [0.27048083, 0.36584667, 0.55451915, 0.36918686],\n",
       "       [0.18115095, 0.54636038, 0.01889039, 0.98707769],\n",
       "       [0.15403706, 0.74250649, 0.67217389, 0.42173066]])"
      ]
     },
     "execution_count": 19,
     "metadata": {},
     "output_type": "execute_result"
    }
   ],
   "source": [
    "print('9. Створіть матрицю розміром 4x4, заповніть її випадковими дійсними числами в діапазоні від 0 до 1 та транспонуйте її.')\n",
    "arr9 = np.random.random((4,4))\n",
    "arr9"
   ]
  },
  {
   "cell_type": "code",
   "execution_count": 20,
   "id": "db0d99e1",
   "metadata": {},
   "outputs": [
    {
     "data": {
      "text/plain": [
       "array([[0.34311823, 0.27048083, 0.18115095, 0.15403706],\n",
       "       [0.79182315, 0.36584667, 0.54636038, 0.74250649],\n",
       "       [0.22894144, 0.55451915, 0.01889039, 0.67217389],\n",
       "       [0.97533642, 0.36918686, 0.98707769, 0.42173066]])"
      ]
     },
     "execution_count": 20,
     "metadata": {},
     "output_type": "execute_result"
    }
   ],
   "source": [
    "arr9.T"
   ]
  },
  {
   "cell_type": "code",
   "execution_count": 21,
   "id": "90280e08",
   "metadata": {},
   "outputs": [
    {
     "name": "stdout",
     "output_type": "stream",
     "text": [
      "10. Створіть матрицю розміром 3x4 та вектор розміром 4, заповніть їх випадковими цілими числами в діапазоні від 1 до 10 та перемножте матрицю на вектор\n"
     ]
    },
    {
     "data": {
      "text/plain": [
       "array([[ 7, 10,  2, 10],\n",
       "       [10,  4, 10,  7],\n",
       "       [ 4,  8,  3,  8]])"
      ]
     },
     "execution_count": 21,
     "metadata": {},
     "output_type": "execute_result"
    }
   ],
   "source": [
    "print('10. Створіть матрицю розміром 3x4 та вектор розміром 4, заповніть їх випадковими цілими числами в діапазоні від 1 до 10 та перемножте матрицю на вектор')\n",
    "arr101 = np.random.randint(1, 11, (3,4))\n",
    "arr101"
   ]
  },
  {
   "cell_type": "code",
   "execution_count": 22,
   "id": "45f579f0",
   "metadata": {},
   "outputs": [
    {
     "data": {
      "text/plain": [
       "array([ 8, 10,  3,  7])"
      ]
     },
     "execution_count": 22,
     "metadata": {},
     "output_type": "execute_result"
    }
   ],
   "source": [
    "arr102 = np.random.randint(1, 11, 4)\n",
    "arr102"
   ]
  },
  {
   "cell_type": "code",
   "execution_count": 23,
   "id": "e1c8ce43",
   "metadata": {},
   "outputs": [
    {
     "data": {
      "text/plain": [
       "array([232, 199, 177])"
      ]
     },
     "execution_count": 23,
     "metadata": {},
     "output_type": "execute_result"
    }
   ],
   "source": [
    "np.dot(arr101, arr102)"
   ]
  },
  {
   "cell_type": "code",
   "execution_count": 24,
   "id": "ae9b7044",
   "metadata": {},
   "outputs": [
    {
     "name": "stdout",
     "output_type": "stream",
     "text": [
      "11. Створіть матрицю розміром 2x3 та вектор розміром 3, заповніть їх випадковими дійсними числами в діапазоні від 0 до 1 та перемножте матрицю на вектор\n"
     ]
    },
    {
     "data": {
      "text/plain": [
       "array([[0.91452981, 0.57334862, 0.72742987],\n",
       "       [0.07114151, 0.61170798, 0.82707243]])"
      ]
     },
     "execution_count": 24,
     "metadata": {},
     "output_type": "execute_result"
    }
   ],
   "source": [
    "print('11. Створіть матрицю розміром 2x3 та вектор розміром 3, заповніть їх випадковими дійсними числами в діапазоні від 0 до 1 та перемножте матрицю на вектор')\n",
    "arr111 = np.random.random((2,3))\n",
    "arr111"
   ]
  },
  {
   "cell_type": "code",
   "execution_count": 25,
   "id": "747f6e5a",
   "metadata": {},
   "outputs": [
    {
     "data": {
      "text/plain": [
       "array([0.68784462, 0.37525137, 0.96079671])"
      ]
     },
     "execution_count": 25,
     "metadata": {},
     "output_type": "execute_result"
    }
   ],
   "source": [
    "arr112 = np.random.random(3)\n",
    "arr112"
   ]
  },
  {
   "cell_type": "code",
   "execution_count": 26,
   "id": "ab1d9608",
   "metadata": {},
   "outputs": [
    {
     "data": {
      "text/plain": [
       "array([1.54311649, 1.07312703])"
      ]
     },
     "execution_count": 26,
     "metadata": {},
     "output_type": "execute_result"
    }
   ],
   "source": [
    "np.dot(arr111, arr112)"
   ]
  },
  {
   "cell_type": "code",
   "execution_count": 27,
   "id": "09625c65",
   "metadata": {},
   "outputs": [
    {
     "name": "stdout",
     "output_type": "stream",
     "text": [
      "12. Створіть дві матриці розміром 2x2, заповніть їх випадковими цілими числами в діапазоні від 1 до 10 та виконайте їхнє поелементне множення\n"
     ]
    },
    {
     "data": {
      "text/plain": [
       "array([[7, 1],\n",
       "       [4, 5]])"
      ]
     },
     "execution_count": 27,
     "metadata": {},
     "output_type": "execute_result"
    }
   ],
   "source": [
    "print('12. Створіть дві матриці розміром 2x2, заповніть їх випадковими цілими числами в діапазоні від 1 до 10 та виконайте їхнє поелементне множення')\n",
    "arr121 = np.random.randint(1, 11, (2,2))\n",
    "arr121"
   ]
  },
  {
   "cell_type": "code",
   "execution_count": 28,
   "id": "b76f0315",
   "metadata": {},
   "outputs": [
    {
     "data": {
      "text/plain": [
       "array([[7, 3],\n",
       "       [3, 1]])"
      ]
     },
     "execution_count": 28,
     "metadata": {},
     "output_type": "execute_result"
    }
   ],
   "source": [
    "arr122 = np.random.randint(1, 11, (2,2))\n",
    "arr122"
   ]
  },
  {
   "cell_type": "code",
   "execution_count": 29,
   "id": "3610a236",
   "metadata": {},
   "outputs": [
    {
     "data": {
      "text/plain": [
       "array([[49,  3],\n",
       "       [12,  5]])"
      ]
     },
     "execution_count": 29,
     "metadata": {},
     "output_type": "execute_result"
    }
   ],
   "source": [
    "arr121 * arr122"
   ]
  },
  {
   "cell_type": "code",
   "execution_count": 30,
   "id": "2db48720",
   "metadata": {},
   "outputs": [
    {
     "name": "stdout",
     "output_type": "stream",
     "text": [
      "13. Створіть дві матриці розміром 2x2, заповніть їх випадковими цілими числами в діапазоні від 1 до 10 та знайдіть їх добуток.\n"
     ]
    },
    {
     "data": {
      "text/plain": [
       "array([[3, 2],\n",
       "       [4, 7]])"
      ]
     },
     "execution_count": 30,
     "metadata": {},
     "output_type": "execute_result"
    }
   ],
   "source": [
    "print('13. Створіть дві матриці розміром 2x2, заповніть їх випадковими цілими числами в діапазоні від 1 до 10 та знайдіть їх добуток.')\n",
    "arr131 = np.random.randint(1, 11, (2,2))\n",
    "arr131"
   ]
  },
  {
   "cell_type": "code",
   "execution_count": 31,
   "id": "e909f033",
   "metadata": {},
   "outputs": [
    {
     "data": {
      "text/plain": [
       "array([[10,  7],\n",
       "       [10,  3]])"
      ]
     },
     "execution_count": 31,
     "metadata": {},
     "output_type": "execute_result"
    }
   ],
   "source": [
    "arr132 = np.random.randint(1, 11, (2,2))\n",
    "arr132"
   ]
  },
  {
   "cell_type": "code",
   "execution_count": 32,
   "id": "e9432eb9",
   "metadata": {},
   "outputs": [
    {
     "data": {
      "text/plain": [
       "array([[ 50,  27],\n",
       "       [110,  49]])"
      ]
     },
     "execution_count": 32,
     "metadata": {},
     "output_type": "execute_result"
    }
   ],
   "source": [
    "np.dot(arr131, arr132)"
   ]
  },
  {
   "cell_type": "code",
   "execution_count": 33,
   "id": "6f8ee835",
   "metadata": {},
   "outputs": [
    {
     "name": "stdout",
     "output_type": "stream",
     "text": [
      "14. Створіть матрицю розміром 5x5, заповніть її випадковими цілими числами в діапазоні від 1 до 100 та знайдіть суму елементів матриці\n"
     ]
    },
    {
     "data": {
      "text/plain": [
       "array([[74, 62, 63, 88, 14],\n",
       "       [ 4, 39, 50, 29, 55],\n",
       "       [60, 14, 84, 19, 31],\n",
       "       [ 5, 66, 10, 79, 32],\n",
       "       [43, 51, 94, 96, 81]])"
      ]
     },
     "execution_count": 33,
     "metadata": {},
     "output_type": "execute_result"
    }
   ],
   "source": [
    "print('14. Створіть матрицю розміром 5x5, заповніть її випадковими цілими числами в діапазоні від 1 до 100 та знайдіть суму елементів матриці')\n",
    "arr14 = np.random.randint(1, 101, (5,5))\n",
    "arr14"
   ]
  },
  {
   "cell_type": "code",
   "execution_count": 34,
   "id": "9933baea",
   "metadata": {},
   "outputs": [
    {
     "data": {
      "text/plain": [
       "1243"
      ]
     },
     "execution_count": 34,
     "metadata": {},
     "output_type": "execute_result"
    }
   ],
   "source": [
    "np.sum(arr14)"
   ]
  },
  {
   "cell_type": "code",
   "execution_count": 35,
   "id": "50d5998f",
   "metadata": {},
   "outputs": [
    {
     "name": "stdout",
     "output_type": "stream",
     "text": [
      "15. Створіть дві матриці розміром 4x4, заповніть їх випадковими цілими числами в діапазоні від 1 до 10 та знайдіть їхню різницю\n"
     ]
    },
    {
     "data": {
      "text/plain": [
       "array([[ 8,  3, 10,  8],\n",
       "       [ 5, 10,  7,  3],\n",
       "       [ 3,  5,  2,  7],\n",
       "       [ 6,  1,  1,  3]])"
      ]
     },
     "execution_count": 35,
     "metadata": {},
     "output_type": "execute_result"
    }
   ],
   "source": [
    "print('15. Створіть дві матриці розміром 4x4, заповніть їх випадковими цілими числами в діапазоні від 1 до 10 та знайдіть їхню різницю')\n",
    "arr151 = np.random.randint(1, 11, (4,4))\n",
    "arr151"
   ]
  },
  {
   "cell_type": "code",
   "execution_count": 36,
   "id": "aab9cd6e",
   "metadata": {},
   "outputs": [
    {
     "data": {
      "text/plain": [
       "array([[ 5,  9,  3,  3],\n",
       "       [ 7,  9,  6,  7],\n",
       "       [ 1,  9,  1, 10],\n",
       "       [ 3,  8,  7,  9]])"
      ]
     },
     "execution_count": 36,
     "metadata": {},
     "output_type": "execute_result"
    }
   ],
   "source": [
    "arr152 = np.random.randint(1, 11, (4,4))\n",
    "arr152"
   ]
  },
  {
   "cell_type": "code",
   "execution_count": 37,
   "id": "2bf4b20f",
   "metadata": {},
   "outputs": [
    {
     "data": {
      "text/plain": [
       "array([[ 3, -6,  7,  5],\n",
       "       [-2,  1,  1, -4],\n",
       "       [ 2, -4,  1, -3],\n",
       "       [ 3, -7, -6, -6]])"
      ]
     },
     "execution_count": 37,
     "metadata": {},
     "output_type": "execute_result"
    }
   ],
   "source": [
    "arr151 - arr152"
   ]
  },
  {
   "cell_type": "code",
   "execution_count": 38,
   "id": "08ef8e36",
   "metadata": {},
   "outputs": [
    {
     "name": "stdout",
     "output_type": "stream",
     "text": [
      "16. Створіть матрицю розміром 3x3, заповніть її випадковими дійсними числами в діапазоні від 0 до 1 та знайдіть вектор-стовпчик, що містить суму елементів кожного рядка матриці.\n"
     ]
    },
    {
     "data": {
      "text/plain": [
       "array([[0.13692507, 0.65101235, 0.01228054],\n",
       "       [0.01236641, 0.93731434, 0.21560017],\n",
       "       [0.66394044, 0.5773005 , 0.8529131 ]])"
      ]
     },
     "execution_count": 38,
     "metadata": {},
     "output_type": "execute_result"
    }
   ],
   "source": [
    "print('16. Створіть матрицю розміром 3x3, заповніть її випадковими дійсними числами в діапазоні від 0 до 1 та знайдіть вектор-стовпчик, що містить суму елементів кожного рядка матриці.')\n",
    "arr16 = np.random.random((3,3))\n",
    "arr16"
   ]
  },
  {
   "cell_type": "code",
   "execution_count": 39,
   "id": "3e6807ba",
   "metadata": {},
   "outputs": [
    {
     "data": {
      "text/plain": [
       "array([[0.80021795],\n",
       "       [1.16528092],\n",
       "       [2.09415405]])"
      ]
     },
     "execution_count": 39,
     "metadata": {},
     "output_type": "execute_result"
    }
   ],
   "source": [
    "np.sum(arr16, axis=1).reshape(-1, 1)"
   ]
  },
  {
   "cell_type": "code",
   "execution_count": 40,
   "id": "1d2e57a1",
   "metadata": {},
   "outputs": [
    {
     "name": "stdout",
     "output_type": "stream",
     "text": [
      "17. Створіть матрицю розміром 3x4 з довільними цілими числами і створінь матрицю з квадратами цих чисел.\n"
     ]
    },
    {
     "data": {
      "text/plain": [
       "array([[10,  5, 10, 10],\n",
       "       [ 3,  8,  2,  6],\n",
       "       [ 7, 10, 10,  4]])"
      ]
     },
     "execution_count": 40,
     "metadata": {},
     "output_type": "execute_result"
    }
   ],
   "source": [
    "print('17. Створіть матрицю розміром 3x4 з довільними цілими числами і створінь матрицю з квадратами цих чисел.')\n",
    "arr17 = np.random.randint(1, 11, (3,4))\n",
    "arr17"
   ]
  },
  {
   "cell_type": "code",
   "execution_count": 41,
   "id": "8b7e3477",
   "metadata": {},
   "outputs": [
    {
     "data": {
      "text/plain": [
       "array([[100,  25, 100, 100],\n",
       "       [  9,  64,   4,  36],\n",
       "       [ 49, 100, 100,  16]])"
      ]
     },
     "execution_count": 41,
     "metadata": {},
     "output_type": "execute_result"
    }
   ],
   "source": [
    "np.square(arr17)"
   ]
  },
  {
   "cell_type": "code",
   "execution_count": 42,
   "id": "9138559e",
   "metadata": {},
   "outputs": [
    {
     "name": "stdout",
     "output_type": "stream",
     "text": [
      "18.Створіть вектор розміром 4, заповніть його випадковими цілими числами в діапазоні від 1 до 50 та знайдіть вектор з квадратними коренями цих чисел.\n"
     ]
    },
    {
     "data": {
      "text/plain": [
       "array([1, 9, 6, 5])"
      ]
     },
     "execution_count": 42,
     "metadata": {},
     "output_type": "execute_result"
    }
   ],
   "source": [
    "print('18.Створіть вектор розміром 4, заповніть його випадковими цілими числами в діапазоні від 1 до 50 та знайдіть вектор з квадратними коренями цих чисел.')\n",
    "arr18 = np.random.randint(1, 11, 4)\n",
    "arr18"
   ]
  },
  {
   "cell_type": "code",
   "execution_count": 43,
   "id": "9612a228",
   "metadata": {},
   "outputs": [
    {
     "data": {
      "text/plain": [
       "array([1.        , 3.        , 2.44948974, 2.23606798])"
      ]
     },
     "execution_count": 43,
     "metadata": {},
     "output_type": "execute_result"
    }
   ],
   "source": [
    "np.sqrt(arr18)"
   ]
  },
  {
   "cell_type": "code",
   "execution_count": null,
   "id": "0c78ac86",
   "metadata": {},
   "outputs": [],
   "source": []
  }
 ],
 "metadata": {
  "kernelspec": {
   "display_name": "Python 3 (ipykernel)",
   "language": "python",
   "name": "python3"
  },
  "language_info": {
   "codemirror_mode": {
    "name": "ipython",
    "version": 3
   },
   "file_extension": ".py",
   "mimetype": "text/x-python",
   "name": "python",
   "nbconvert_exporter": "python",
   "pygments_lexer": "ipython3",
   "version": "3.11.0"
  }
 },
 "nbformat": 4,
 "nbformat_minor": 5
}
